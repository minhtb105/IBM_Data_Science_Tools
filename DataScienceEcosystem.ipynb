{
 "cells": [
  {
   "cell_type": "markdown",
   "metadata": {},
   "source": [
    "<center>\n",
    "    <img src=\"https://cf-courses-data.s3.us.cloud-object-storage.appdomain.cloud/IBMDeveloperSkillsNetwork-DS0105EN-SkillsNetwork/labs/Module2/images/SN_web_lightmode.png\" width=\"300\" alt=\"cognitiveclass.ai logo\">\n",
    "</center>\n"
   ]
  },
  {
   "cell_type": "markdown",
   "metadata": {},
   "source": [
    "#### Add your code below following the instructions given in the course\n"
   ]
  },
  {
   "cell_type": "markdown",
   "metadata": {
    "tags": []
   },
   "source": [
    "# Data Science Tools and Ecosystem"
   ]
  },
  {
   "cell_type": "markdown",
   "metadata": {},
   "source": [
    "In this notebook, Data Science Tools and Ecosystem are summarized."
   ]
  },
  {
   "cell_type": "markdown",
   "metadata": {},
   "source": [
    "**Objectives:**\n",
    "\n",
    "- List popular languages for Data Science.\n",
    "- Identify commonly used libraries in Data Science.\n",
    "- Understand data science tools, including development environments.\n",
    "- Implement a simple conversion operation in Python.\n",
    "- Practice creating Markdown cells and formatting in a Jupyter Notebook."
   ]
  },
  {
   "cell_type": "markdown",
   "metadata": {},
   "source": [
    "Some of the popular languages that Data Scientists use are:\n",
    "\n",
    "1. **Python**\n",
    "   - Known for its simplicity and versatility, Python is widely used in data science for tasks ranging from data analysis to machine learning.\n",
    "\n",
    "2. **R**\n",
    "   - Specifically designed for statistics and data analysis, R is a powerful language for statistical modeling and visualization.\n",
    "\n",
    "3. **SQL**\n",
    "   - Although not a programming language per se, SQL (Structured Query Language) is essential for querying and managing databases, a crucial aspect of data science.\n",
    "\n",
    "4. **Julia**\n",
    "   - Emerging as a language for high-performance scientific computing, Julia is gaining popularity in the data science community.\n",
    "\n",
    "5. **Scala**\n",
    "   - Often used in conjunction with Apache Spark, Scala is a scalable language suitable for big data processing and analytics.\n"
   ]
  },
  {
   "cell_type": "markdown",
   "metadata": {},
   "source": [
    "Some of the commonly used libraries by Data Scientists include:\n",
    "\n",
    "1. **NumPy**\n",
    "   - A fundamental package for scientific computing with Python, providing support for large, multi-dimensional arrays and matrices.\n",
    "\n",
    "2. **Pandas**\n",
    "   - A data manipulation and analysis library, Pandas is widely used for working with structured data, offering data structures like DataFrames.\n",
    "\n",
    "3. **Scikit-learn**\n",
    "   - An open-source machine learning library for Python, Scikit-learn provides simple and efficient tools for data mining and data analysis.\n",
    "\n",
    "4. **Matplotlib**\n",
    "   - A versatile plotting library for Python, Matplotlib is commonly used for creating static, interactive, and animated visualizations in Python.\n",
    "\n",
    "5. **TensorFlow**\n",
    "   - Developed by Google, TensorFlow is an open-source machine learning framework widely used for building and training deep learning models.\n",
    "\n",
    "6. **PyTorch**\n",
    "   - A deep learning library developed by Facebook, PyTorch is known for its dynamic computation graph and ease of use in building neural network models.\n"
   ]
  },
  {
   "cell_type": "markdown",
   "metadata": {},
   "source": [
    "| Data Science Tools      |\n",
    "|-------------------------|\n",
    "| Jupyter Notebook        |\n",
    "| RStudio                 |\n",
    "| Apache Spark         |\n"
   ]
  },
  {
   "cell_type": "markdown",
   "metadata": {},
   "source": [
    "### Below are a few examples of evaluating arithmetic expressions in Python"
   ]
  },
  {
   "cell_type": "code",
   "execution_count": 2,
   "metadata": {
    "tags": []
   },
   "outputs": [
    {
     "data": {
      "text/plain": [
       "17"
      ]
     },
     "execution_count": 2,
     "metadata": {},
     "output_type": "execute_result"
    }
   ],
   "source": [
    "(3*4)+5\n",
    "# This a simple arithmetic expression to mutiply then add integers"
   ]
  },
  {
   "cell_type": "code",
   "execution_count": 3,
   "metadata": {
    "tags": []
   },
   "outputs": [
    {
     "data": {
      "text/plain": [
       "3.3333333333333335"
      ]
     },
     "execution_count": 3,
     "metadata": {},
     "output_type": "execute_result"
    }
   ],
   "source": [
    "# This will convert 200 minutes to hours by dividing by 60.\n",
    "minutes = 200\n",
    "hours = minutes / 60\n",
    "hours"
   ]
  },
  {
   "cell_type": "markdown",
   "metadata": {},
   "source": [
    "# Author\n",
    "Minh Tran"
   ]
  }
 ],
 "metadata": {
  "kernelspec": {
   "display_name": "Python",
   "language": "python",
   "name": "conda-env-python-py"
  },
  "language_info": {
   "codemirror_mode": {
    "name": "ipython",
    "version": 3
   },
   "file_extension": ".py",
   "mimetype": "text/x-python",
   "name": "python",
   "nbconvert_exporter": "python",
   "pygments_lexer": "ipython3",
   "version": "3.7.12"
  }
 },
 "nbformat": 4,
 "nbformat_minor": 4
}
